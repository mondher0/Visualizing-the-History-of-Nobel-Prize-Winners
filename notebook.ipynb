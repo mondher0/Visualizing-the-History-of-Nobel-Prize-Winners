{
 "cells": [
  {
   "cell_type": "code",
   "execution_count": 1,
   "metadata": {},
   "outputs": [],
   "source": [
    "import pandas as pd\n",
    "import numpy as np\n",
    "\n",
    "nobelData = pd.read_csv('./data/nobel.csv')"
   ]
  },
  {
   "cell_type": "code",
   "execution_count": 4,
   "metadata": {},
   "outputs": [
    {
     "name": "stdout",
     "output_type": "stream",
     "text": [
      "Most common birth country of nobel laureates: United States of America\n",
      "Most common gender of nobel laureates: Male\n"
     ]
    }
   ],
   "source": [
    "# most common birth country of nobel laureates\n",
    "groupedByCountry = nobelData.groupby('birth_country')[\"full_name\"].count().sort_values(ascending=False)\n",
    "top_country = groupedByCountry.idxmax()\n",
    "print(f\"Most common birth country of nobel laureates: {top_country}\")\n",
    "\n",
    "#most gender of nobel laureates\n",
    "groupedByGender = nobelData.groupby('sex')[\"full_name\"].count().sort_values(ascending=False)\n",
    "top_gender = groupedByGender.idxmax()\n",
    "print(f\"Most common gender of nobel laureates: {top_gender}\")"
   ]
  },
  {
   "cell_type": "code",
   "execution_count": null,
   "metadata": {},
   "outputs": [
    {
     "name": "stdout",
     "output_type": "stream",
     "text": [
      "Decade with the highest ratio of US-born Nobel Prize winners to total winners in all categories: 2000\n"
     ]
    }
   ],
   "source": [
    "# Which decade had the highest ratio of US-born Nobel Prize winners to total winners in all categories\n",
    "nobelData['US_ratio'] = nobelData['birth_country'] == 'United States of America'\n",
    "nobelData['decade'] = (np.floor(nobelData['year'] / 10) * 10).astype(int)\n",
    "groupedData = nobelData.groupby(['decade'],as_index=False)['US_ratio'].mean()\n",
    "max_decade_usa = groupedData[groupedData['US_ratio'] == groupedData['US_ratio'].max()]['decade'].values[0]\n",
    "print(f\"Decade with the highest ratio of US-born Nobel Prize winners to total winners in all categories: {max_decade_usa}\")"
   ]
  },
  {
   "cell_type": "code",
   "execution_count": null,
   "metadata": {},
   "outputs": [],
   "source": [
    "# Which decade and Nobel Prize category combination had the highest proportion of female laureates\n",
    "nobelData['female_winner'] = nobelData['sex'] == 'Female'\n",
    "prop_female_winners = nobelData.groupby(['decade', 'category'], as_index=False)['female_winner'].mean()\n",
    "\n",
    "# Find the decade and category with the highest proportion of female laureates\n",
    "max_female_decade_category = prop_female_winners[prop_female_winners['female_winner'] == prop_female_winners['female_winner'].max()][['decade', 'category']]\n",
    "\n",
    "# Create a dictionary with the decade and category pair\n",
    "max_female_dict = {max_female_decade_category['decade'].values[0]: max_female_decade_category['category'].values[0]}\n",
    "print(f\"Decade and category with the highest proportion of female laureates: {max_female_dict}\")"
   ]
  },
  {
   "cell_type": "code",
   "execution_count": null,
   "metadata": {},
   "outputs": [],
   "source": [
    "# Who was the first woman to receive a Nobel Prize, and in what category\n",
    "onlywomen = nobelData[nobelData['sex'] == 'Female']\n",
    "first_woman_name = onlywomen.head(1)['full_name'].values[0]\n",
    "first_woman_category = onlywomen.head(1)['category'].values[0]\n",
    "print(f\"First woman to receive a Nobel Prize: {first_woman_name} in category: {first_woman_category}\")"
   ]
  },
  {
   "cell_type": "code",
   "execution_count": null,
   "metadata": {},
   "outputs": [
    {
     "name": "stdout",
     "output_type": "stream",
     "text": [
      "Individuals or organizations have won more than one Nobel Prize throughout the years: [162, 284, 480, 576, 601, 672]\n"
     ]
    }
   ],
   "source": [
    "# Which individuals or organizations have won more than one Nobel Prize throughout the years\n",
    "groupedData = nobelData.groupby(['full_name'],as_index=False)[\"full_name\"].count()\n",
    "repeat_list = groupedData[groupedData['full_name'] > 1].index.tolist()\n",
    "print(f\"Individuals or organizations have won more than one Nobel Prize throughout the years: {repeat_list}\")"
   ]
  }
 ],
 "metadata": {
  "kernelspec": {
   "display_name": ".venv",
   "language": "python",
   "name": "python3"
  },
  "language_info": {
   "codemirror_mode": {
    "name": "ipython",
    "version": 3
   },
   "file_extension": ".py",
   "mimetype": "text/x-python",
   "name": "python",
   "nbconvert_exporter": "python",
   "pygments_lexer": "ipython3",
   "version": "3.12.2"
  }
 },
 "nbformat": 4,
 "nbformat_minor": 2
}
